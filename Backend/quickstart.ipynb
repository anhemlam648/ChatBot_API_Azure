{
 "cells": [
  {
   "cell_type": "markdown",
   "metadata": {},
   "source": [
    "Install pip install Flask, pip install fastapi uvicorn, pip install openai"
   ]
  },
  {
   "cell_type": "markdown",
   "metadata": {},
   "source": [
    "Create Azure OpenAI include YourApiKeyService, YourEnpointService, YourDeployName, API version"
   ]
  },
  {
   "cell_type": "code",
   "execution_count": 2,
   "metadata": {},
   "outputs": [],
   "source": [
    "os.environ['AZURE_OPENAI_API_KEY'] = 'YourApiKeyService'\n",
    "os.environ['AZURE_OPENAI_ENDPOINT'] = 'YourEnpointService'\n",
    "os.environ['AZURE_OPENAI_API_DEPLOYNAME'] = 'YourDeployName'\n",
    "os.environ['AZURE_OPENAI_API_VERSION'] = 'For example 2024-04-09'"
   ]
  },
  {
   "cell_type": "markdown",
   "metadata": {},
   "source": [
    "import AzureOpenAI, from flask import Flask, from fastapi import FastAPI , os, openai"
   ]
  },
  {
   "cell_type": "code",
   "execution_count": 1,
   "metadata": {},
   "outputs": [],
   "source": [
    "from openai import AzureOpenAI\n",
    "from azure.identity import DefaultAzureCredential\n",
    "from flask import Flask, jsonify, request\n",
    "from flask_cors import CORS\n",
    "import os"
   ]
  },
  {
   "cell_type": "markdown",
   "metadata": {},
   "source": []
  },
  {
   "cell_type": "markdown",
   "metadata": {},
   "source": [
    "Create an instance of a open AI config with specified YourEnpoint and YourServiceKey.\n",
    "Replace with your own Enpoint and Key from Azure Open AI."
   ]
  },
  {
   "cell_type": "code",
   "execution_count": 5,
   "metadata": {},
   "outputs": [],
   "source": [
    "app = Flask(__name__)\n",
    "CORS(app)\n",
    "\n",
    "client = AzureOpenAI(\n",
    "    api_key=os.getenv(\"AZURE_OPENAI_API_KEY\"),  \n",
    "    api_version=\"For example 2024-04-09-preview\",\n",
    "    azure_endpoint=os.getenv(\"AZURE_OPENAI_ENDPOINT\")\n",
    ")"
   ]
  },
  {
   "cell_type": "markdown",
   "metadata": {},
   "source": [
    "Start with chat Open AI"
   ]
  },
  {
   "cell_type": "code",
   "execution_count": 11,
   "metadata": {},
   "outputs": [],
   "source": [
    "def chatAPP():\n",
    "    data = request.get_json()\n",
    "    prompt = data.get('prompt')\n",
    "\n",
    "    if not prompt:\n",
    "        return jsonify({\"error\": \"Prompt is required.\"}), 400\n",
    "\n",
    "    chat_messages = [\n",
    "        {\"role\": \"user\", \"content\": prompt},\n",
    "    ]\n",
    "\n",
    "    try:\n",
    "        response = client.chat.completions.create(\n",
    "            model=os.environ['AZURE_OPENAI_API_DEPLOYNAME'],\n",
    "            messages=chat_messages\n",
    "        )\n",
    "        response_content = response.choices[0].message.content.strip()  \n",
    "        return jsonify({\"response\": response_content}), 200\n",
    "    except Exception as ex:\n",
    "        return jsonify({\"error\": str(ex)}), 500\n"
   ]
  }
 ],
 "metadata": {
  "kernelspec": {
   "display_name": "Python 3",
   "language": "python",
   "name": "python3"
  },
  "language_info": {
   "codemirror_mode": {
    "name": "ipython",
    "version": 3
   },
   "file_extension": ".py",
   "mimetype": "text/x-python",
   "name": "python",
   "nbconvert_exporter": "python",
   "pygments_lexer": "ipython3",
   "version": "3.12.5"
  }
 },
 "nbformat": 4,
 "nbformat_minor": 2
}
